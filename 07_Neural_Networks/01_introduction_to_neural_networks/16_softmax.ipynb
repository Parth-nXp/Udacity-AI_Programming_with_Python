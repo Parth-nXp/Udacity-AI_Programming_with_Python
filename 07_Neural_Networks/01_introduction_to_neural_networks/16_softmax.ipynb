{
 "cells": [
  {
   "cell_type": "code",
   "execution_count": 3,
   "metadata": {},
   "outputs": [],
   "source": [
    "import numpy as np\n",
    "\n",
    "# Write a function that takes as input a list of numbers, and returns\n",
    "# the list of values given by the softmax function.\n",
    "def softmax(L):\n",
    "    P = []\n",
    "    denominator = 0;\n",
    "    for i in range(len(L)):\n",
    "        denominator += np.exp(L[i])\n",
    "\n",
    "    for i in range(len(L)):\n",
    "        P.append(np.exp(L[i])/denominator)\n",
    "\n",
    "    return P"
   ]
  },
  {
   "cell_type": "code",
   "execution_count": 4,
   "metadata": {},
   "outputs": [
    {
     "name": "stdout",
     "output_type": "stream",
     "text": [
      "[0.6652409557748219, 0.24472847105479764, 0.09003057317038046]\n"
     ]
    }
   ],
   "source": [
    "L = [2,1,0];\n",
    "print(softmax(L))"
   ]
  }
 ],
 "metadata": {
  "kernelspec": {
   "display_name": "base",
   "language": "python",
   "name": "python3"
  },
  "language_info": {
   "codemirror_mode": {
    "name": "ipython",
    "version": 3
   },
   "file_extension": ".py",
   "mimetype": "text/x-python",
   "name": "python",
   "nbconvert_exporter": "python",
   "pygments_lexer": "ipython3",
   "version": "3.10.9"
  }
 },
 "nbformat": 4,
 "nbformat_minor": 2
}
