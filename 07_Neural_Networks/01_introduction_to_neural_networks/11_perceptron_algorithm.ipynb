{
 "cells": [
  {
   "cell_type": "code",
   "execution_count": 5,
   "metadata": {},
   "outputs": [],
   "source": [
    "import numpy as np\n",
    "# Setting the random seed, feel free to change it and see different solutions.\n",
    "np.random.seed(42)\n",
    "\n",
    "def stepFunction(t):\n",
    "    if t >= 0:\n",
    "        return 1\n",
    "    return 0\n",
    "\n",
    "def prediction(X, W, b):\n",
    "    return stepFunction((np.matmul(X,W)+b)[0])\n",
    "\n",
    "# TODO: Fill in the code below to implement the perceptron trick.\n",
    "# The function should receive as inputs the data X, the labels y,\n",
    "# the weights W (as an array), and the bias b,\n",
    "# update the weights and bias W, b, according to the perceptron algorithm,\n",
    "# and return W and b.\n",
    "def perceptronStep(X, y, W, b, learn_rate = 0.01):\n",
    "    for i in range(1, len(X)):\n",
    "        y_hat = prediction(X[i], W, b)\n",
    "        error = y[i]-y_hat\n",
    "        if error == 1:\n",
    "            W[0]+=learn_rate*X[i][0]\n",
    "            W[1]+=learn_rate*X[i][1]\n",
    "            b += learn_rate\n",
    "\n",
    "        elif error == -1:\n",
    "            W[0]-=learn_rate*X[i][0]\n",
    "            W[1]-=learn_rate*X[i][1]\n",
    "            b -= learn_rate\n",
    "    return W, b\n",
    "    \n",
    "# This function runs the perceptron algorithm repeatedly on the dataset,\n",
    "# and returns a few of the boundary lines obtained in the iterations,\n",
    "# for plotting purposes.\n",
    "# Feel free to play with the learning rate and the num_epochs,\n",
    "# and see your results plotted below.\n",
    "def trainPerceptronAlgorithm(X, y, learn_rate = 0.01, num_epochs = 25):\n",
    "    x_min, x_max = min(X.T[0]), max(X.T[0])\n",
    "    y_min, y_max = min(X.T[1]), max(X.T[1])\n",
    "    W = np.array(np.random.rand(2,1))\n",
    "    b = np.random.rand(1)[0] + x_max\n",
    "    # These are the solution lines that get plotted below.\n",
    "    boundary_lines = []\n",
    "    for i in range(num_epochs):\n",
    "        # In each epoch, we apply the perceptron step.\n",
    "        W, b = perceptronStep(X, y, W, b, learn_rate)\n",
    "        boundary_lines.append((-W[0]/W[1], -b/W[1]))\n",
    "    return boundary_lines"
   ]
  },
  {
   "cell_type": "code",
   "execution_count": 9,
   "metadata": {},
   "outputs": [
    {
     "data": {
      "text/plain": [
       "[(array([1.10978832]), array([4.46888546])),\n",
       " (array([0.03241705]), array([1.42964659])),\n",
       " (array([-0.22131743]), array([0.73284983])),\n",
       " (array([-0.24498341]), array([0.6751207])),\n",
       " (array([-0.26118871]), array([0.64953538])),\n",
       " (array([-0.27362548]), array([0.63916146])),\n",
       " (array([-0.28305131]), array([0.64400617])),\n",
       " (array([-0.29262113]), array([0.64892489])),\n",
       " (array([-0.30233825]), array([0.65391933])),\n",
       " (array([-0.31220611]), array([0.65899123])),\n",
       " (array([-0.32222824]), array([0.66414244])),\n",
       " (array([-0.33162844]), array([0.66899033])),\n",
       " (array([-0.34116687]), array([0.67390951])),\n",
       " (array([-0.35084663]), array([0.67890157])),\n",
       " (array([-0.36067086]), array([0.68396815])),\n",
       " (array([-0.37409998]), array([0.67289192])),\n",
       " (array([-0.3817292]), array([0.67733739])),\n",
       " (array([-0.3894599]), array([0.68184198])),\n",
       " (array([-0.39729412]), array([0.6864069])),\n",
       " (array([-0.40523394]), array([0.69103334])),\n",
       " (array([-0.41328152]), array([0.69572258])),\n",
       " (array([-0.42143906]), array([0.70047589])),\n",
       " (array([-0.42970884]), array([0.7052946])),\n",
       " (array([-0.43809318]), array([0.71018007])),\n",
       " (array([-0.44659449]), array([0.71513369]))]"
      ]
     },
     "execution_count": 9,
     "metadata": {},
     "output_type": "execute_result"
    }
   ],
   "source": [
    "from pandas import read_csv\n",
    "# this function returns a DataFrame\n",
    "data = read_csv(\"data.csv\", header=None).values\n",
    "X = data[:, 0:2]\n",
    "y = data[:, 2]\n",
    "\n",
    "trainPerceptronAlgorithm(X, y, num_epochs=25)"
   ]
  }
 ],
 "metadata": {
  "kernelspec": {
   "display_name": "base",
   "language": "python",
   "name": "python3"
  },
  "language_info": {
   "codemirror_mode": {
    "name": "ipython",
    "version": 3
   },
   "file_extension": ".py",
   "mimetype": "text/x-python",
   "name": "python",
   "nbconvert_exporter": "python",
   "pygments_lexer": "ipython3",
   "version": "3.10.9"
  }
 },
 "nbformat": 4,
 "nbformat_minor": 2
}
